{
  "nbformat": 4,
  "nbformat_minor": 0,
  "metadata": {
    "colab": {
      "provenance": [],
      "toc_visible": true
    },
    "kernelspec": {
      "name": "python3",
      "display_name": "Python 3"
    },
    "language_info": {
      "name": "python"
    }
  },
  "cells": [
    {
      "cell_type": "code",
      "execution_count": null,
      "metadata": {
        "colab": {
          "base_uri": "https://localhost:8080/"
        },
        "id": "vdltlGOiFd6a",
        "outputId": "da9556e2-20a0-443c-a976-6b932c5e51b2"
      },
      "outputs": [
        {
          "output_type": "stream",
          "name": "stdout",
          "text": [
            "Collecting opendatasets\n",
            "  Downloading opendatasets-0.1.22-py3-none-any.whl (15 kB)\n",
            "Requirement already satisfied: tqdm in /usr/local/lib/python3.10/dist-packages (from opendatasets) (4.66.1)\n",
            "Requirement already satisfied: kaggle in /usr/local/lib/python3.10/dist-packages (from opendatasets) (1.5.16)\n",
            "Requirement already satisfied: click in /usr/local/lib/python3.10/dist-packages (from opendatasets) (8.1.7)\n",
            "Requirement already satisfied: six>=1.10 in /usr/local/lib/python3.10/dist-packages (from kaggle->opendatasets) (1.16.0)\n",
            "Requirement already satisfied: certifi in /usr/local/lib/python3.10/dist-packages (from kaggle->opendatasets) (2023.7.22)\n",
            "Requirement already satisfied: python-dateutil in /usr/local/lib/python3.10/dist-packages (from kaggle->opendatasets) (2.8.2)\n",
            "Requirement already satisfied: requests in /usr/local/lib/python3.10/dist-packages (from kaggle->opendatasets) (2.31.0)\n",
            "Requirement already satisfied: python-slugify in /usr/local/lib/python3.10/dist-packages (from kaggle->opendatasets) (8.0.1)\n",
            "Requirement already satisfied: urllib3 in /usr/local/lib/python3.10/dist-packages (from kaggle->opendatasets) (2.0.4)\n",
            "Requirement already satisfied: bleach in /usr/local/lib/python3.10/dist-packages (from kaggle->opendatasets) (6.0.0)\n",
            "Requirement already satisfied: webencodings in /usr/local/lib/python3.10/dist-packages (from bleach->kaggle->opendatasets) (0.5.1)\n",
            "Requirement already satisfied: text-unidecode>=1.3 in /usr/local/lib/python3.10/dist-packages (from python-slugify->kaggle->opendatasets) (1.3)\n",
            "Requirement already satisfied: charset-normalizer<4,>=2 in /usr/local/lib/python3.10/dist-packages (from requests->kaggle->opendatasets) (3.2.0)\n",
            "Requirement already satisfied: idna<4,>=2.5 in /usr/local/lib/python3.10/dist-packages (from requests->kaggle->opendatasets) (3.4)\n",
            "Installing collected packages: opendatasets\n",
            "Successfully installed opendatasets-0.1.22\n"
          ]
        }
      ],
      "source": [
        "pip install opendatasets"
      ]
    },
    {
      "cell_type": "markdown",
      "source": [
        "# Natural Language Processing with Disaster Tweets\n",
        "## Using LSTM, a RNN, Approach"
      ],
      "metadata": {
        "id": "cmfIIxv1Fm-A"
      }
    },
    {
      "cell_type": "code",
      "source": [
        "#importing the necessary libraries\n",
        "import opendatasets as od #to import Kaggle dataset, also need Kaggle API\n",
        "\n",
        "import pandas as pd\n",
        "import numpy as np\n",
        "import matplotlib.pyplot as plt\n",
        "import re\n",
        "import string\n",
        "from tabulate import tabulate\n",
        "\n",
        "from sklearn.model_selection import train_test_split\n",
        "from sklearn.preprocessing import LabelEncoder\n",
        "import tensorflow as tf\n",
        "from tensorflow.keras.preprocessing.image import ImageDataGenerator\n",
        "from tensorflow.keras.preprocessing.sequence import TimeseriesGenerator\n",
        "from tensorflow.keras.models import Sequential, Model\n",
        "from keras.preprocessing.text import Tokenizer\n",
        "from tensorflow.keras.layers import Dense, Activation, Dropout, LSTM, Input, Embedding\n",
        "from tensorflow.keras.optimizers.legacy import Adam\n",
        "from keras.preprocessing import sequence\n",
        "from keras.utils import to_categorical\n",
        "from keras.callbacks import EarlyStopping"
      ],
      "metadata": {
        "id": "D7hk-D6RF1g1"
      },
      "execution_count": 103,
      "outputs": []
    },
    {
      "cell_type": "markdown",
      "source": [
        "## 1 Brief description of the problem and data"
      ],
      "metadata": {
        "id": "4aZXlecuF-Dn"
      }
    },
    {
      "cell_type": "markdown",
      "source": [
        "In this Kaggle project, \"Natural Language Processing with Disaster Tweets,\" we are tasked with designing a model which will predict which tweets are about a real disaster and which are not. If a tweet in the training set is regarding a real disaster then it is labeled a 1 in the target column and a 0 otherwise. The goal is to create a model which accurately predicts if a tweet is regarding a real disaster or not. The competition and datasets are available on Kaggle at https://www.kaggle.com/competitions/nlp-getting-started/overview .$^{1}$\n",
        "\n",
        "We will begin by importing the datasets from Kaggle. If you plan to run this code lcoally without changing the code to access to the data files, you will need your login info and API from Kaggle."
      ],
      "metadata": {
        "id": "-fpvt3LzGFGE"
      }
    },
    {
      "cell_type": "code",
      "source": [
        "#importing all of the datasets straight from Kaggle\n",
        "od.download(\"https://www.kaggle.com/competitions/nlp-getting-started/data\")"
      ],
      "metadata": {
        "colab": {
          "base_uri": "https://localhost:8080/"
        },
        "id": "SvNhQFW6GGQi",
        "outputId": "4c3ec293-aacf-4257-8283-6176ddc15e28"
      },
      "execution_count": null,
      "outputs": [
        {
          "output_type": "stream",
          "name": "stdout",
          "text": [
            "Please provide your Kaggle credentials to download this dataset. Learn more: http://bit.ly/kaggle-creds\n",
            "Your Kaggle username: heathermelrose\n",
            "Your Kaggle Key: ··········\n",
            "Downloading nlp-getting-started.zip to ./nlp-getting-started\n"
          ]
        },
        {
          "output_type": "stream",
          "name": "stderr",
          "text": [
            "100%|██████████| 593k/593k [00:00<00:00, 88.0MB/s]"
          ]
        },
        {
          "output_type": "stream",
          "name": "stdout",
          "text": [
            "\n",
            "Extracting archive ./nlp-getting-started/nlp-getting-started.zip to ./nlp-getting-started\n"
          ]
        },
        {
          "output_type": "stream",
          "name": "stderr",
          "text": [
            "\n"
          ]
        }
      ]
    },
    {
      "cell_type": "code",
      "source": [
        "train_df = pd.read_csv('nlp-getting-started/train.csv')\n",
        "test_df = pd.read_csv('nlp-getting-started/test.csv')"
      ],
      "metadata": {
        "id": "kKsnIvgbGmZq"
      },
      "execution_count": null,
      "outputs": []
    },
    {
      "cell_type": "markdown",
      "source": [
        "## 2 Exploratory Data Analysis (EDA) — Inspect, Visualize and Clean the Data"
      ],
      "metadata": {
        "id": "Yiw1KrCTG-9q"
      }
    },
    {
      "cell_type": "markdown",
      "source": [
        "Let's take a minute to look at the data,"
      ],
      "metadata": {
        "id": "1O-0y6W3HEGN"
      }
    },
    {
      "cell_type": "code",
      "source": [
        "print('Head of Training Set Data File:')\n",
        "print(train_df.head())\n",
        "print('')\n",
        "print('Training Set Data Null Values:')\n",
        "print(train_df.isna().sum())\n",
        "print('')\n",
        "print('Training Set Data Unique Values:')\n",
        "print(train_df.nunique())\n",
        "print('')\n",
        "print('Variable Sizes and Datatypes')\n",
        "print('')\n",
        "train_df.info()"
      ],
      "metadata": {
        "colab": {
          "base_uri": "https://localhost:8080/"
        },
        "id": "Qbn1PGNkHE_L",
        "outputId": "03680fe5-98be-4c08-b593-846a05af5943"
      },
      "execution_count": null,
      "outputs": [
        {
          "output_type": "stream",
          "name": "stdout",
          "text": [
            "Head of Training Set Data File:\n",
            "   id keyword location                                               text  \\\n",
            "0   1     NaN      NaN  Our Deeds are the Reason of this #earthquake M...   \n",
            "1   4     NaN      NaN             Forest fire near La Ronge Sask. Canada   \n",
            "2   5     NaN      NaN  All residents asked to 'shelter in place' are ...   \n",
            "3   6     NaN      NaN  13,000 people receive #wildfires evacuation or...   \n",
            "4   7     NaN      NaN  Just got sent this photo from Ruby #Alaska as ...   \n",
            "\n",
            "   target  \n",
            "0       1  \n",
            "1       1  \n",
            "2       1  \n",
            "3       1  \n",
            "4       1  \n",
            "\n",
            "Training Set Data Null Values:\n",
            "id             0\n",
            "keyword       61\n",
            "location    2533\n",
            "text           0\n",
            "target         0\n",
            "dtype: int64\n",
            "\n",
            "Training Set Data Unique Values:\n",
            "id          7613\n",
            "keyword      221\n",
            "location    3341\n",
            "text        7503\n",
            "target         2\n",
            "dtype: int64\n",
            "\n",
            "Variable Sizes and Datatypes\n",
            "\n",
            "<class 'pandas.core.frame.DataFrame'>\n",
            "RangeIndex: 7613 entries, 0 to 7612\n",
            "Data columns (total 5 columns):\n",
            " #   Column    Non-Null Count  Dtype \n",
            "---  ------    --------------  ----- \n",
            " 0   id        7613 non-null   int64 \n",
            " 1   keyword   7552 non-null   object\n",
            " 2   location  5080 non-null   object\n",
            " 3   text      7613 non-null   object\n",
            " 4   target    7613 non-null   int64 \n",
            "dtypes: int64(2), object(3)\n",
            "memory usage: 297.5+ KB\n"
          ]
        }
      ]
    },
    {
      "cell_type": "markdown",
      "source": [
        "We have several variables here.\n",
        "\n",
        "*   id - unique identifier for each tweet\n",
        "*   keyword - a particular word from the tweet with 61 null entries\n",
        "*   location - where the tweet was sent from, 2533 are null\n",
        "*   text - the words in the tweet\n",
        "*   target - the classifier, 1 = disaster, 0 = not a disaster\n",
        "\n",
        "There are 7613 entries in this dataframe without any null values for text, id or target."
      ],
      "metadata": {
        "id": "OXhN_TbtLTJp"
      }
    },
    {
      "cell_type": "code",
      "source": [
        "counts, bins = np.histogram(train_df['target'])\n",
        "plt.hist(train_df['target'], bins =2, edgecolor='black')\n",
        "plt.xticks(ticks = [0,1])\n",
        "plt.xlabel('Target')\n",
        "plt.ylabel('Count')\n",
        "plt.title('Target Distribution in the Train Dataset')\n",
        "plt.show()"
      ],
      "metadata": {
        "colab": {
          "base_uri": "https://localhost:8080/",
          "height": 472
        },
        "id": "J3Fs6PeFHlFq",
        "outputId": "4284edd5-c82b-4939-b087-940c23b8d8d8"
      },
      "execution_count": null,
      "outputs": [
        {
          "output_type": "display_data",
          "data": {
            "text/plain": [
              "<Figure size 640x480 with 1 Axes>"
            ],
            "image/png": "[encoded data removed]"
          },
          "metadata": {}
        }
      ]
    },
    {
      "cell_type": "code",
      "source": [
        "train_category = train_df.groupby(by='target').size()\n",
        "plt.pie(train_category, labels=train_category.index, autopct='%1.1f%%', startangle=90)\n",
        "plt.title('Target Percentages in the Train Dataset')\n",
        "plt.show()"
      ],
      "metadata": {
        "colab": {
          "base_uri": "https://localhost:8080/",
          "height": 428
        },
        "id": "glo3BUpoH0d7",
        "outputId": "e6215342-3533-498b-ec54-fe2b51b85f94"
      },
      "execution_count": null,
      "outputs": [
        {
          "output_type": "display_data",
          "data": {
            "text/plain": [
              "<Figure size 640x480 with 1 Axes>"
            ],
            "image/png": "[encoded data removed]"
          },
          "metadata": {}
        }
      ]
    },
    {
      "cell_type": "markdown",
      "source": [
        "57% of the tweets, or 4340, are not related to real disasters, leaving 43% that are real disasters.\n",
        "\n",
        "It would take us quite some time to read over 3000 tweets to understand what the real disaster texts look like. Instead, let's look at the keywords. What exactly are the 221 unique keywords? Let's take a look, keeping in mind that \"%20\" represents a space between two words,"
      ],
      "metadata": {
        "id": "VP9XmSW-Nziv"
      }
    },
    {
      "cell_type": "code",
      "source": [
        "train_df.keyword.unique()"
      ],
      "metadata": {
        "colab": {
          "base_uri": "https://localhost:8080/"
        },
        "id": "Z3fV4ObJPPkR",
        "outputId": "b5348769-b1f2-43a8-be52-9dac4f67e563"
      },
      "execution_count": null,
      "outputs": [
        {
          "output_type": "execute_result",
          "data": {
            "text/plain": [
              "array([nan, 'ablaze', 'accident', 'aftershock', 'airplane%20accident',\n",
              "       'ambulance', 'annihilated', 'annihilation', 'apocalypse',\n",
              "       'armageddon', 'army', 'arson', 'arsonist', 'attack', 'attacked',\n",
              "       'avalanche', 'battle', 'bioterror', 'bioterrorism', 'blaze',\n",
              "       'blazing', 'bleeding', 'blew%20up', 'blight', 'blizzard', 'blood',\n",
              "       'bloody', 'blown%20up', 'body%20bag', 'body%20bagging',\n",
              "       'body%20bags', 'bomb', 'bombed', 'bombing', 'bridge%20collapse',\n",
              "       'buildings%20burning', 'buildings%20on%20fire', 'burned',\n",
              "       'burning', 'burning%20buildings', 'bush%20fires', 'casualties',\n",
              "       'casualty', 'catastrophe', 'catastrophic', 'chemical%20emergency',\n",
              "       'cliff%20fall', 'collapse', 'collapsed', 'collide', 'collided',\n",
              "       'collision', 'crash', 'crashed', 'crush', 'crushed', 'curfew',\n",
              "       'cyclone', 'damage', 'danger', 'dead', 'death', 'deaths', 'debris',\n",
              "       'deluge', 'deluged', 'demolish', 'demolished', 'demolition',\n",
              "       'derail', 'derailed', 'derailment', 'desolate', 'desolation',\n",
              "       'destroy', 'destroyed', 'destruction', 'detonate', 'detonation',\n",
              "       'devastated', 'devastation', 'disaster', 'displaced', 'drought',\n",
              "       'drown', 'drowned', 'drowning', 'dust%20storm', 'earthquake',\n",
              "       'electrocute', 'electrocuted', 'emergency', 'emergency%20plan',\n",
              "       'emergency%20services', 'engulfed', 'epicentre', 'evacuate',\n",
              "       'evacuated', 'evacuation', 'explode', 'exploded', 'explosion',\n",
              "       'eyewitness', 'famine', 'fatal', 'fatalities', 'fatality', 'fear',\n",
              "       'fire', 'fire%20truck', 'first%20responders', 'flames',\n",
              "       'flattened', 'flood', 'flooding', 'floods', 'forest%20fire',\n",
              "       'forest%20fires', 'hail', 'hailstorm', 'harm', 'hazard',\n",
              "       'hazardous', 'heat%20wave', 'hellfire', 'hijack', 'hijacker',\n",
              "       'hijacking', 'hostage', 'hostages', 'hurricane', 'injured',\n",
              "       'injuries', 'injury', 'inundated', 'inundation', 'landslide',\n",
              "       'lava', 'lightning', 'loud%20bang', 'mass%20murder',\n",
              "       'mass%20murderer', 'massacre', 'mayhem', 'meltdown', 'military',\n",
              "       'mudslide', 'natural%20disaster', 'nuclear%20disaster',\n",
              "       'nuclear%20reactor', 'obliterate', 'obliterated', 'obliteration',\n",
              "       'oil%20spill', 'outbreak', 'pandemonium', 'panic', 'panicking',\n",
              "       'police', 'quarantine', 'quarantined', 'radiation%20emergency',\n",
              "       'rainstorm', 'razed', 'refugees', 'rescue', 'rescued', 'rescuers',\n",
              "       'riot', 'rioting', 'rubble', 'ruin', 'sandstorm', 'screamed',\n",
              "       'screaming', 'screams', 'seismic', 'sinkhole', 'sinking', 'siren',\n",
              "       'sirens', 'smoke', 'snowstorm', 'storm', 'stretcher',\n",
              "       'structural%20failure', 'suicide%20bomb', 'suicide%20bomber',\n",
              "       'suicide%20bombing', 'sunk', 'survive', 'survived', 'survivors',\n",
              "       'terrorism', 'terrorist', 'threat', 'thunder', 'thunderstorm',\n",
              "       'tornado', 'tragedy', 'trapped', 'trauma', 'traumatised',\n",
              "       'trouble', 'tsunami', 'twister', 'typhoon', 'upheaval',\n",
              "       'violent%20storm', 'volcano', 'war%20zone', 'weapon', 'weapons',\n",
              "       'whirlwind', 'wild%20fires', 'wildfire', 'windstorm', 'wounded',\n",
              "       'wounds', 'wreck', 'wreckage', 'wrecked'], dtype=object)"
            ]
          },
          "metadata": {},
          "execution_count": 9
        }
      ]
    },
    {
      "cell_type": "markdown",
      "source": [
        "For a project about disasters, these keywrods are not too surprising. There are a few which could confuse a NLP model, espeically when we consider slang. For example, \"I'm dead\" can mean that the author finds something hilariously funny but the word dead included in the keyword list uses an entirely different definition.\n",
        "\n",
        "Looking at these keywords, location without the inclusion of dates is unlikely to help us assess whether or not the text is referring to a real disater. For example let's look at the keyword 'lava'. If lava was tweeted in May of 2018 from the Big Island of Island, we could use location and date together to determine that the tweet is referencing a real disaster. That is not possible with this dataset which lacks dates. Additionally, it is not in the spirit of the project, we are tasked with using langauge to determine whether or not a real disaster is being referenced. Hence, we will not be utilizing location in our model.\n",
        "\n",
        "Keyword and Text, are linearly dependent. Keyword for each entry comes directly from Text. Since we are attempting to label tweets using a RNN, we are going to use Text as our input variable. Keyword becomes redundant and will be excluded.\n",
        "\n",
        "Id is merely a unique identifer, and thus can be left out of the model.\n",
        "\n",
        "Before we begin building a model, a little data cleaning needs to take place on the tweets (text) themselves. Let's remove punctuation, emojis, URLs and HTML tags$^{2}$:"
      ],
      "metadata": {
        "id": "GDAZT1wBQr1d"
      }
    },
    {
      "cell_type": "code",
      "source": [
        "def remove_html(text):\n",
        "    html=re.compile(r'<.*?>')\n",
        "    return html.sub(r'',text)\n",
        "train_df['text']=train_df['text'].apply(lambda x:remove_html(x))"
      ],
      "metadata": {
        "id": "8yb9abThYZoU"
      },
      "execution_count": null,
      "outputs": []
    },
    {
      "cell_type": "code",
      "source": [
        "def remove_url(text):\n",
        "    url=re.compile(r'https?://\\S+|www\\.\\S+')\n",
        "    return url.sub(r'',text)\n",
        "train_df['text']=train_df['text'].apply(lambda x:remove_url(x))"
      ],
      "metadata": {
        "id": "EvEB1T5rZBdu"
      },
      "execution_count": null,
      "outputs": []
    },
    {
      "cell_type": "code",
      "source": [
        "def remove_emoji(text):\n",
        "    emoji_pattern = re.compile('['\n",
        "                                u\"\\U0001F600-\\U0001F64F\"\n",
        "                                u\"\\U0001F300-\\U0001F5FF\"\n",
        "                                u\"\\U0001F680-\\U0001F6FF\"\n",
        "                                u\"\\U0001F1E0-\\U0001F1FF\"\n",
        "                                u\"\\U00002702-\\U000027B0\"\n",
        "                                u\"\\U000024C2-\\U0001F251\"\n",
        "                                ']+',flags=re.UNICODE)\n",
        "    return emoji_pattern.sub(r'',text)\n",
        "train_df['text']=train_df['text'].apply(lambda x:remove_emoji(x))"
      ],
      "metadata": {
        "id": "u1CPeYiiZVWF"
      },
      "execution_count": null,
      "outputs": []
    },
    {
      "cell_type": "code",
      "source": [
        "def remove_punct(text):\n",
        "    table = str.maketrans('','',string.punctuation)\n",
        "    return text.translate(table)\n",
        "train_df['text']=train_df['text'].apply(lambda x: remove_punct(x))"
      ],
      "metadata": {
        "id": "zkoyD_U4ZmF7"
      },
      "execution_count": null,
      "outputs": []
    },
    {
      "cell_type": "markdown",
      "source": [
        "## 3 Model Architecture"
      ],
      "metadata": {
        "id": "V85r1AlXIAoo"
      }
    },
    {
      "cell_type": "markdown",
      "source": [
        "In class this week we learned about Long Short Term Memory (LSTM), a special case of a Recurrent Neural Network (RNN). RNNs are especially good for sequences and lists, such as speech recognition and language modeling. In addition, LSTMs are capable of learning long term dependencies.  Thus this model is going to use the keras library with a LSTM layer. LSTM, hopefully, will help discern the slang from the real disasters.\n",
        "\n",
        "Let's reshape our training set, and split the data into training and validation parts. Keeping with the keras library, we are going to use their preprocessing Tokenizer method to change the plain, cleaned text into a sequence.$^{3}$ In addition to keras's Tokenizer, we are going to add padding to ensure that all of the sequences are of the same length. Then, we will build our LSTM model using one layer of LSTM with 64 units and a dropout layer. We will compile the model using Adam optimizer, binary crossentropy loss and accuracy as our metric, since F1 is the grading statistic used by Kaggle.  "
      ],
      "metadata": {
        "id": "Ti0zB-5QVxte"
      }
    },
    {
      "cell_type": "code",
      "source": [
        "X = train_df.text\n",
        "Y = train_df.target\n",
        "le = LabelEncoder()\n",
        "Y = le.fit_transform(Y)\n",
        "Y = Y.reshape(-1,1)"
      ],
      "metadata": {
        "id": "jlqhsBNyxYZY"
      },
      "execution_count": null,
      "outputs": []
    },
    {
      "cell_type": "code",
      "source": [
        "x_train, x_val, y_train, y_val = train_test_split(X, Y, test_size=0.2)"
      ],
      "metadata": {
        "id": "Kzt7UYLChoFs"
      },
      "execution_count": null,
      "outputs": []
    },
    {
      "cell_type": "code",
      "source": [
        "max_words = 1000\n",
        "max_len = 150\n",
        "tok = Tokenizer(num_words=max_words)\n",
        "tok.fit_on_texts(x_train)\n",
        "sequences = tok.texts_to_sequences(x_train)\n",
        "sequences_matrix = sequence.pad_sequences(sequences,maxlen=max_len)"
      ],
      "metadata": {
        "id": "HEfD0R_T2TJ_"
      },
      "execution_count": null,
      "outputs": []
    },
    {
      "cell_type": "code",
      "source": [
        "def RNN_1():\n",
        "    inputs = Input(name='inputs',shape=[max_len])\n",
        "    layer = Embedding(max_words,50,input_length=max_len)(inputs)\n",
        "    layer = LSTM(64)(layer)\n",
        "    layer = Dense(256,name='FC1')(layer)\n",
        "    layer = Activation('relu')(layer)\n",
        "    layer = Dropout(0.5)(layer)\n",
        "    layer = Dense(1,name='out_layer')(layer)\n",
        "    layer = Activation('sigmoid')(layer)\n",
        "    model = Model(inputs=inputs,outputs=layer)\n",
        "    return model"
      ],
      "metadata": {
        "id": "PhVz4Vtk2jd1"
      },
      "execution_count": null,
      "outputs": []
    },
    {
      "cell_type": "code",
      "source": [
        "model = RNN_1()\n",
        "model.summary()\n",
        "model.compile(loss='binary_crossentropy',optimizer=Adam(),metrics=['accuracy'])"
      ],
      "metadata": {
        "colab": {
          "base_uri": "https://localhost:8080/"
        },
        "id": "v1zi2fbW2pgy",
        "outputId": "d31b0cff-6f31-4b98-90ef-7669b36def2f"
      },
      "execution_count": null,
      "outputs": [
        {
          "output_type": "stream",
          "name": "stdout",
          "text": [
            "Model: \"model\"\n",
            "_________________________________________________________________\n",
            " Layer (type)                Output Shape              Param #   \n",
            "=================================================================\n",
            " inputs (InputLayer)         [(None, 150)]             0         \n",
            "                                                                 \n",
            " embedding (Embedding)       (None, 150, 50)           50000     \n",
            "                                                                 \n",
            " lstm (LSTM)                 (None, 64)                29440     \n",
            "                                                                 \n",
            " FC1 (Dense)                 (None, 256)               16640     \n",
            "                                                                 \n",
            " activation (Activation)     (None, 256)               0         \n",
            "                                                                 \n",
            " dropout (Dropout)           (None, 256)               0         \n",
            "                                                                 \n",
            " out_layer (Dense)           (None, 1)                 257       \n",
            "                                                                 \n",
            " activation_1 (Activation)   (None, 1)                 0         \n",
            "                                                                 \n",
            "=================================================================\n",
            "Total params: 96337 (376.32 KB)\n",
            "Trainable params: 96337 (376.32 KB)\n",
            "Non-trainable params: 0 (0.00 Byte)\n",
            "_________________________________________________________________\n"
          ]
        }
      ]
    },
    {
      "cell_type": "markdown",
      "source": [
        "## 4 Results and Analysis"
      ],
      "metadata": {
        "id": "zp7xLHsaIBnV"
      }
    },
    {
      "cell_type": "markdown",
      "source": [
        "Let's fit the model utilizing keras's EarlyStopping method to keep epochs to a practical number."
      ],
      "metadata": {
        "id": "NvEWop-utEeu"
      }
    },
    {
      "cell_type": "code",
      "source": [
        "hist1 = model.fit(sequences_matrix,y_train,batch_size=256,epochs=10,\n",
        "          validation_split=0.2,callbacks=[EarlyStopping(monitor='val_loss',min_delta=0.0001)])"
      ],
      "metadata": {
        "colab": {
          "base_uri": "https://localhost:8080/"
        },
        "id": "LnKAbpj722fS",
        "outputId": "7ca3e215-f118-4265-8b55-54881468f33b"
      },
      "execution_count": null,
      "outputs": [
        {
          "output_type": "stream",
          "name": "stdout",
          "text": [
            "Epoch 1/10\n",
            "20/20 [==============================] - 11s 427ms/step - loss: 0.6841 - accuracy: 0.5638 - val_loss: 0.6719 - val_accuracy: 0.5698\n",
            "Epoch 2/10\n",
            "20/20 [==============================] - 7s 357ms/step - loss: 0.6402 - accuracy: 0.6242 - val_loss: 0.5835 - val_accuracy: 0.7438\n",
            "Epoch 3/10\n",
            "20/20 [==============================] - 8s 382ms/step - loss: 0.4982 - accuracy: 0.7818 - val_loss: 0.4835 - val_accuracy: 0.7685\n",
            "Epoch 4/10\n",
            "20/20 [==============================] - 8s 415ms/step - loss: 0.4112 - accuracy: 0.8190 - val_loss: 0.4613 - val_accuracy: 0.7726\n",
            "Epoch 5/10\n",
            "20/20 [==============================] - 7s 354ms/step - loss: 0.3879 - accuracy: 0.8346 - val_loss: 0.4472 - val_accuracy: 0.7997\n",
            "Epoch 6/10\n",
            "20/20 [==============================] - 8s 398ms/step - loss: 0.3681 - accuracy: 0.8428 - val_loss: 0.4525 - val_accuracy: 0.7989\n"
          ]
        }
      ]
    },
    {
      "cell_type": "code",
      "source": [
        "plt.plot(hist1.history['accuracy'])\n",
        "plt.plot(hist1.history['val_accuracy'])\n",
        "plt.title('LSTM Accuracy per Epoch')\n",
        "plt.ylabel('accuracy')\n",
        "plt.xlabel('epoch')\n",
        "plt.legend(['train', 'validate'], loc='upper left')\n",
        "plt.show();"
      ],
      "metadata": {
        "colab": {
          "base_uri": "https://localhost:8080/",
          "height": 472
        },
        "id": "8mPMKN6g42ul",
        "outputId": "7c1fd893-6033-463e-8ac3-1b1fa7c6ccad"
      },
      "execution_count": null,
      "outputs": [
        {
          "output_type": "display_data",
          "data": {
            "text/plain": [
              "<Figure size 640x480 with 1 Axes>"
            ],
            "image/png": "[encoded data removed]"
          },
          "metadata": {}
        }
      ]
    },
    {
      "cell_type": "markdown",
      "source": [
        "The accuracy of this model is pretty good. Over 5 epochs, the training set climbs to 84% accuracy and appears to being leveling off as the EarlyStopping threshold is reached. The validation set follows a similar curve, but clearly levels off an epoch sooner at only 80%.\n",
        "\n",
        "Let's see if we can do better by changing the hyperparameter of 64 LSTM units to 128 units, doubling their number, while keeping all other parameters the same,"
      ],
      "metadata": {
        "id": "in8jcf4stXhM"
      }
    },
    {
      "cell_type": "code",
      "source": [
        "def RNN_2():\n",
        "    inputs = Input(name='inputs',shape=[max_len])\n",
        "    layer = Embedding(max_words,50,input_length=max_len)(inputs)\n",
        "    layer = LSTM(128)(layer)\n",
        "    layer = Dense(256,name='FC1')(layer)\n",
        "    layer = Activation('relu')(layer)\n",
        "    layer = Dropout(0.5)(layer)\n",
        "    layer = Dense(1,name='out_layer')(layer)\n",
        "    layer = Activation('sigmoid')(layer)\n",
        "    model = Model(inputs=inputs,outputs=layer)\n",
        "    return model"
      ],
      "metadata": {
        "id": "wLblycT48brL"
      },
      "execution_count": null,
      "outputs": []
    },
    {
      "cell_type": "code",
      "source": [
        "model_2 = RNN_2()\n",
        "model_2.summary()\n",
        "model_2.compile(loss='binary_crossentropy',optimizer=Adam(),metrics=['accuracy'])"
      ],
      "metadata": {
        "colab": {
          "base_uri": "https://localhost:8080/"
        },
        "id": "K0Ul0ZEV8nC5",
        "outputId": "72bce573-0ce5-4da5-9425-fce22e5d7cb8"
      },
      "execution_count": null,
      "outputs": [
        {
          "output_type": "stream",
          "name": "stdout",
          "text": [
            "Model: \"model_1\"\n",
            "_________________________________________________________________\n",
            " Layer (type)                Output Shape              Param #   \n",
            "=================================================================\n",
            " inputs (InputLayer)         [(None, 150)]             0         \n",
            "                                                                 \n",
            " embedding_1 (Embedding)     (None, 150, 50)           50000     \n",
            "                                                                 \n",
            " lstm_1 (LSTM)               (None, 128)               91648     \n",
            "                                                                 \n",
            " FC1 (Dense)                 (None, 256)               33024     \n",
            "                                                                 \n",
            " activation_2 (Activation)   (None, 256)               0         \n",
            "                                                                 \n",
            " dropout_1 (Dropout)         (None, 256)               0         \n",
            "                                                                 \n",
            " out_layer (Dense)           (None, 1)                 257       \n",
            "                                                                 \n",
            " activation_3 (Activation)   (None, 1)                 0         \n",
            "                                                                 \n",
            "=================================================================\n",
            "Total params: 174929 (683.32 KB)\n",
            "Trainable params: 174929 (683.32 KB)\n",
            "Non-trainable params: 0 (0.00 Byte)\n",
            "_________________________________________________________________\n"
          ]
        }
      ]
    },
    {
      "cell_type": "code",
      "source": [
        "hist2 = model_2.fit(sequences_matrix,y_train,batch_size=256,epochs=10,\n",
        "          validation_split=0.2,callbacks=[EarlyStopping(monitor='val_loss',min_delta=0.0001)])"
      ],
      "metadata": {
        "colab": {
          "base_uri": "https://localhost:8080/"
        },
        "id": "R5LKls8O8_uF",
        "outputId": "005e45ce-03ad-458b-ce73-7b5ebd0970b5"
      },
      "execution_count": null,
      "outputs": [
        {
          "output_type": "stream",
          "name": "stdout",
          "text": [
            "Epoch 1/10\n",
            "20/20 [==============================] - 23s 1s/step - loss: 0.6759 - accuracy: 0.5757 - val_loss: 0.6542 - val_accuracy: 0.6092\n",
            "Epoch 2/10\n",
            "20/20 [==============================] - 14s 724ms/step - loss: 0.5968 - accuracy: 0.7157 - val_loss: 0.6095 - val_accuracy: 0.7422\n",
            "Epoch 3/10\n",
            "20/20 [==============================] - 14s 726ms/step - loss: 0.4593 - accuracy: 0.7917 - val_loss: 0.4580 - val_accuracy: 0.8005\n",
            "Epoch 4/10\n",
            "20/20 [==============================] - 14s 725ms/step - loss: 0.4034 - accuracy: 0.8255 - val_loss: 0.4480 - val_accuracy: 0.7931\n",
            "Epoch 5/10\n",
            "20/20 [==============================] - 14s 726ms/step - loss: 0.3749 - accuracy: 0.8422 - val_loss: 0.4612 - val_accuracy: 0.7964\n"
          ]
        }
      ]
    },
    {
      "cell_type": "code",
      "source": [
        "plt.plot(hist2.history['accuracy'])\n",
        "plt.plot(hist2.history['val_accuracy'])\n",
        "plt.title('LSTM Accuracy per Epoch')\n",
        "plt.ylabel('accuracy')\n",
        "plt.xlabel('epoch')\n",
        "plt.legend(['train', 'validate'], loc='upper left')\n",
        "plt.show();"
      ],
      "metadata": {
        "colab": {
          "base_uri": "https://localhost:8080/",
          "height": 472
        },
        "id": "XHWF4Mzg9YcD",
        "outputId": "99541ad8-bbf8-47cb-bc28-37b63a2832ec"
      },
      "execution_count": null,
      "outputs": [
        {
          "output_type": "display_data",
          "data": {
            "text/plain": [
              "<Figure size 640x480 with 1 Axes>"
            ],
            "image/png": "[encoded data removed]"
          },
          "metadata": {}
        }
      ]
    },
    {
      "cell_type": "markdown",
      "source": [
        "Doubling the LSTM units doubled the run time which is expected; however, with a runtime per epoch ranging between 14 and 23 seconds, this is still a reasonable model.\n",
        "\n",
        "By doubling the number of LSTM units, we reached the same EarlyStopping threshold one epoch sooner, but the resulting accuracy is the same. Let's look at the two hyperparameters side by side,"
      ],
      "metadata": {
        "id": "buIB0KBsu4L_"
      }
    },
    {
      "cell_type": "code",
      "source": [
        "plt.plot(hist1.history['accuracy'])\n",
        "plt.plot(hist2.history['accuracy'])\n",
        "plt.title('Tale of Two RNNs')\n",
        "plt.ylabel('accuracy')\n",
        "plt.xlabel('epoch')\n",
        "plt.legend(['LSTM 64', 'LSTM 128'], loc='upper left')\n",
        "plt.show();"
      ],
      "metadata": {
        "colab": {
          "base_uri": "https://localhost:8080/",
          "height": 472
        },
        "id": "-T8xi-_i92cy",
        "outputId": "78e1be37-bae6-4541-f0e2-0cb8196d1fb3"
      },
      "execution_count": null,
      "outputs": [
        {
          "output_type": "display_data",
          "data": {
            "text/plain": [
              "<Figure size 640x480 with 1 Axes>"
            ],
            "image/png": "[encoded data removed]"
          },
          "metadata": {}
        }
      ]
    },
    {
      "cell_type": "markdown",
      "source": [
        "The accuracy is pretty much the same whether we use 64 or 128 LSTM units. Increasing the number of LSTM units improves how quickly the LSTM model reaches 84% accuracy. Since we get to the same level of accuracy one epoch sooner with marginal increase in runtime per layer, let's keep the number of LSTM units at 128 and try removing the dropout layer to see if that improves accuracy."
      ],
      "metadata": {
        "id": "SjjN7jQfxQBe"
      }
    },
    {
      "cell_type": "code",
      "source": [
        "def RNN_3():\n",
        "    inputs = Input(name='inputs',shape=[max_len])\n",
        "    layer = Embedding(max_words,50,input_length=max_len)(inputs)\n",
        "    layer = LSTM(128)(layer)\n",
        "    layer = Dense(256,name='FC1')(layer)\n",
        "    layer = Activation('relu')(layer)\n",
        "    layer = Dense(1,name='out_layer')(layer)\n",
        "    layer = Activation('sigmoid')(layer)\n",
        "    model = Model(inputs=inputs,outputs=layer)\n",
        "    return model"
      ],
      "metadata": {
        "id": "XQz4YM52-J3p"
      },
      "execution_count": null,
      "outputs": []
    },
    {
      "cell_type": "code",
      "source": [
        "model_3 = RNN_3()\n",
        "model_3.summary()\n",
        "model_3.compile(loss='binary_crossentropy',optimizer=Adam(),metrics=['accuracy'])"
      ],
      "metadata": {
        "colab": {
          "base_uri": "https://localhost:8080/"
        },
        "id": "PX8h7LJ6-XE_",
        "outputId": "fc76e76e-981d-4553-eb0a-df07afa98bd9"
      },
      "execution_count": null,
      "outputs": [
        {
          "output_type": "stream",
          "name": "stdout",
          "text": [
            "Model: \"model_3\"\n",
            "_________________________________________________________________\n",
            " Layer (type)                Output Shape              Param #   \n",
            "=================================================================\n",
            " inputs (InputLayer)         [(None, 150)]             0         \n",
            "                                                                 \n",
            " embedding_3 (Embedding)     (None, 150, 50)           50000     \n",
            "                                                                 \n",
            " lstm_3 (LSTM)               (None, 128)               91648     \n",
            "                                                                 \n",
            " FC1 (Dense)                 (None, 256)               33024     \n",
            "                                                                 \n",
            " activation_6 (Activation)   (None, 256)               0         \n",
            "                                                                 \n",
            " out_layer (Dense)           (None, 1)                 257       \n",
            "                                                                 \n",
            " activation_7 (Activation)   (None, 1)                 0         \n",
            "                                                                 \n",
            "=================================================================\n",
            "Total params: 174929 (683.32 KB)\n",
            "Trainable params: 174929 (683.32 KB)\n",
            "Non-trainable params: 0 (0.00 Byte)\n",
            "_________________________________________________________________\n"
          ]
        }
      ]
    },
    {
      "cell_type": "code",
      "source": [
        "hist3 = model_3.fit(sequences_matrix,y_train,batch_size=256,epochs=10,\n",
        "          validation_split=0.2,callbacks=[EarlyStopping(monitor='val_loss',min_delta=0.0001)])"
      ],
      "metadata": {
        "colab": {
          "base_uri": "https://localhost:8080/"
        },
        "id": "9MvU2dHi-gsp",
        "outputId": "74e71949-91b0-488e-ed58-3ed60b1b1964"
      },
      "execution_count": null,
      "outputs": [
        {
          "output_type": "stream",
          "name": "stdout",
          "text": [
            "Epoch 1/10\n",
            "20/20 [==============================] - 14s 719ms/step - loss: 0.6692 - accuracy: 0.5807 - val_loss: 0.6239 - val_accuracy: 0.6831\n",
            "Epoch 2/10\n",
            "20/20 [==============================] - 14s 724ms/step - loss: 0.5367 - accuracy: 0.7504 - val_loss: 0.4796 - val_accuracy: 0.7718\n",
            "Epoch 3/10\n",
            "20/20 [==============================] - 15s 737ms/step - loss: 0.4246 - accuracy: 0.8050 - val_loss: 0.4576 - val_accuracy: 0.7956\n",
            "Epoch 4/10\n",
            "20/20 [==============================] - 14s 719ms/step - loss: 0.3800 - accuracy: 0.8344 - val_loss: 0.4519 - val_accuracy: 0.7915\n",
            "Epoch 5/10\n",
            "20/20 [==============================] - 15s 739ms/step - loss: 0.3571 - accuracy: 0.8539 - val_loss: 0.4848 - val_accuracy: 0.7915\n"
          ]
        }
      ]
    },
    {
      "cell_type": "code",
      "source": [
        "plt.plot(hist3.history['accuracy'])\n",
        "plt.plot(hist3.history['val_accuracy'])\n",
        "plt.title('LSTM Accuracy per Epoch')\n",
        "plt.ylabel('accuracy')\n",
        "plt.xlabel('epoch')\n",
        "plt.legend(['train', 'validate'], loc='upper left')\n",
        "plt.show();"
      ],
      "metadata": {
        "colab": {
          "base_uri": "https://localhost:8080/",
          "height": 472
        },
        "id": "EllXAv-8-vYD",
        "outputId": "f5ff2233-ec74-4089-997c-5b7f1c6f9379"
      },
      "execution_count": null,
      "outputs": [
        {
          "output_type": "display_data",
          "data": {
            "text/plain": [
              "<Figure size 640x480 with 1 Axes>"
            ],
            "image/png": "[encoded data removed]"
          },
          "metadata": {}
        }
      ]
    },
    {
      "cell_type": "markdown",
      "source": [
        "We had a very small (1%) increase in accuracy by removing the dropout layer and a faster first epoch run time.\n",
        "\n",
        "Let's compare the two 128 unit models,"
      ],
      "metadata": {
        "id": "IChCHLUI0dcZ"
      }
    },
    {
      "cell_type": "code",
      "source": [
        "plt.plot(hist2.history['accuracy'])\n",
        "plt.plot(hist3.history['accuracy'])\n",
        "plt.title('Tale of Two RNNs Part II')\n",
        "plt.ylabel('accuracy')\n",
        "plt.xlabel('epoch')\n",
        "plt.legend(['With Dropout', 'Without Dropout'], loc='upper left')\n",
        "plt.show();"
      ],
      "metadata": {
        "colab": {
          "base_uri": "https://localhost:8080/",
          "height": 472
        },
        "id": "wdIXNGp6-9vC",
        "outputId": "720fe291-24a9-43ea-c7be-d52c1d6eb95d"
      },
      "execution_count": null,
      "outputs": [
        {
          "output_type": "display_data",
          "data": {
            "text/plain": [
              "<Figure size 640x480 with 1 Axes>"
            ],
            "image/png": "[encoded data removed]"
          },
          "metadata": {}
        }
      ]
    },
    {
      "cell_type": "markdown",
      "source": [
        "The above graph compares the two 128 unit LSTM models, one with dropout and the other without. The LSTM model without dropout has a slightly better accuracy curve and is the winner albeit by the slightest of margins on the training data. To summarize the final values of each hyperparameter please see the table below,"
      ],
      "metadata": {
        "id": "FCcPt6ok3bG9"
      }
    },
    {
      "cell_type": "code",
      "source": [
        "print(tabulate([['LSTM with 64 units', hist1.history['accuracy'][5], hist1.history['loss'][5],hist1.history['val_accuracy'][5],hist1.history['val_loss'][5]],\n",
        "                ['LSTM with 128 units', hist2.history['accuracy'][4], hist2.history['loss'][4],hist2.history['val_accuracy'][4],hist2.history['val_loss'][4]],\n",
        "                ['LSTM without Dropout', hist3.history['accuracy'][4], hist3.history['loss'][4],hist3.history['val_accuracy'][4],hist3.history['val_loss'][4]]],\n",
        "               headers=['Models', 'Training Accuracy', 'Train Loss', 'Validation Accuracy', 'Validation Loss']))"
      ],
      "metadata": {
        "colab": {
          "base_uri": "https://localhost:8080/"
        },
        "id": "fdkeyGdIMXBY",
        "outputId": "77a5d37e-2994-489e-8913-1de1698d8b60"
      },
      "execution_count": 108,
      "outputs": [
        {
          "output_type": "stream",
          "name": "stdout",
          "text": [
            "Models                  Training Accuracy    Train Loss    Validation Accuracy    Validation Loss\n",
            "--------------------  -------------------  ------------  ---------------------  -----------------\n",
            "LSTM with 64 units               0.842775      0.368098               0.798851           0.45254\n",
            "LSTM with 128 units              0.842159      0.374924               0.796387           0.461193\n",
            "LSTM without Dropout             0.853859      0.357115               0.791461           0.484805\n"
          ]
        }
      ]
    },
    {
      "cell_type": "markdown",
      "source": [
        "## 5 Conclusion"
      ],
      "metadata": {
        "id": "2PsiNDedIHZl"
      }
    },
    {
      "cell_type": "markdown",
      "source": [
        "The decision to use LSTM was based on what we learned in class this week and the nature of the dataset, a language modeling project. Playing with the hyperparameters, we learned that increasing the number of LSTM units led to decreasing the number of epochs needed. Accuracy improved only slightly by adding LSTM units and removing dropout.\n",
        "\n",
        "Future work might include increasing the LSTM units even more, changing the optimization from Adam to SGD or RMSProp, and removing the EarlyStopping threshold. In addition to changing the LSTM model during future work, I would try text processing techniques which differ from the Tokenizer method used here; future options include GloVe and Word2Vec."
      ],
      "metadata": {
        "id": "fPxqTPzP3wP5"
      }
    },
    {
      "cell_type": "markdown",
      "source": [
        "## 6 Creating a Kaggle Submission csv"
      ],
      "metadata": {
        "id": "uLAP6FeYISgE"
      }
    },
    {
      "cell_type": "markdown",
      "source": [
        "Clean the test set,"
      ],
      "metadata": {
        "id": "E_qGpeNnDdkp"
      }
    },
    {
      "cell_type": "code",
      "source": [
        "test_df['text']=test_df['text'].apply(lambda x:remove_html(x))\n",
        "test_df['text']=test_df['text'].apply(lambda x:remove_url(x))\n",
        "test_df['text']=test_df['text'].apply(lambda x:remove_emoji(x))\n",
        "test_df['text']=test_df['text'].apply(lambda x: remove_punct(x))\n"
      ],
      "metadata": {
        "id": "5Kf7HNGo_hTl"
      },
      "execution_count": null,
      "outputs": []
    },
    {
      "cell_type": "code",
      "source": [
        "sub = test_df['text']"
      ],
      "metadata": {
        "id": "qItQXUZ4gELG"
      },
      "execution_count": null,
      "outputs": []
    },
    {
      "cell_type": "markdown",
      "source": [
        "Tokenize the data to turn the text into sequences, then pad to be the same length,"
      ],
      "metadata": {
        "id": "ozu5m8IJDjEM"
      }
    },
    {
      "cell_type": "code",
      "source": [
        "tok2 = Tokenizer(num_words=max_words)\n",
        "tok2.fit_on_texts(sub)\n",
        "sequences2 = tok2.texts_to_sequences(sub)\n",
        "sequences_matrix2 = sequence.pad_sequences(sequences2,maxlen=max_len)"
      ],
      "metadata": {
        "id": "wjer1m0qj-iR"
      },
      "execution_count": null,
      "outputs": []
    },
    {
      "cell_type": "markdown",
      "source": [
        "Get an idea of what the submission file should look like,"
      ],
      "metadata": {
        "id": "6CJiDyTwDy6O"
      }
    },
    {
      "cell_type": "code",
      "source": [
        "sample_submission = pd.read_csv(\"nlp-getting-started/sample_submission.csv\")\n",
        "sample_submission.head()"
      ],
      "metadata": {
        "colab": {
          "base_uri": "https://localhost:8080/",
          "height": 206
        },
        "id": "Q16fQeMjDtfg",
        "outputId": "a7feb560-f428-42c4-a7dc-9e0895402b61"
      },
      "execution_count": null,
      "outputs": [
        {
          "output_type": "execute_result",
          "data": {
            "text/plain": [
              "   id  target\n",
              "0   0       0\n",
              "1   2       0\n",
              "2   3       0\n",
              "3   9       0\n",
              "4  11       0"
            ],
            "text/html": [
              "\n",
              "  <div id=\"df-48022370-1062-4cd2-b603-0d9047b4d2a7\" class=\"colab-df-container\">\n",
              "    <div>\n",
              "<style scoped>\n",
              "    .dataframe tbody tr th:only-of-type {\n",
              "        vertical-align: middle;\n",
              "    }\n",
              "\n",
              "    .dataframe tbody tr th {\n",
              "        vertical-align: top;\n",
              "    }\n",
              "\n",
              "    .dataframe thead th {\n",
              "        text-align: right;\n",
              "    }\n",
              "</style>\n",
              "<table border=\"1\" class=\"dataframe\">\n",
              "  <thead>\n",
              "    <tr style=\"text-align: right;\">\n",
              "      <th></th>\n",
              "      <th>id</th>\n",
              "      <th>target</th>\n",
              "    </tr>\n",
              "  </thead>\n",
              "  <tbody>\n",
              "    <tr>\n",
              "      <th>0</th>\n",
              "      <td>0</td>\n",
              "      <td>0</td>\n",
              "    </tr>\n",
              "    <tr>\n",
              "      <th>1</th>\n",
              "      <td>2</td>\n",
              "      <td>0</td>\n",
              "    </tr>\n",
              "    <tr>\n",
              "      <th>2</th>\n",
              "      <td>3</td>\n",
              "      <td>0</td>\n",
              "    </tr>\n",
              "    <tr>\n",
              "      <th>3</th>\n",
              "      <td>9</td>\n",
              "      <td>0</td>\n",
              "    </tr>\n",
              "    <tr>\n",
              "      <th>4</th>\n",
              "      <td>11</td>\n",
              "      <td>0</td>\n",
              "    </tr>\n",
              "  </tbody>\n",
              "</table>\n",
              "</div>\n",
              "    <div class=\"colab-df-buttons\">\n",
              "\n",
              "  <div class=\"colab-df-container\">\n",
              "    <button class=\"colab-df-convert\" onclick=\"convertToInteractive('df-48022370-1062-4cd2-b603-0d9047b4d2a7')\"\n",
              "            title=\"Convert this dataframe to an interactive table.\"\n",
              "            style=\"display:none;\">\n",
              "\n",
              "  <svg xmlns=\"http://www.w3.org/2000/svg\" height=\"24px\" viewBox=\"0 -960 960 960\">\n",
              "    <path d=\"M120-120v-720h720v720H120Zm60-500h600v-160H180v160Zm220 220h160v-160H400v160Zm0 220h160v-160H400v160ZM180-400h160v-160H180v160Zm440 0h160v-160H620v160ZM180-180h160v-160H180v160Zm440 0h160v-160H620v160Z\"/>\n",
              "  </svg>\n",
              "    </button>\n",
              "\n",
              "  <style>\n",
              "    .colab-df-container {\n",
              "      display:flex;\n",
              "      gap: 12px;\n",
              "    }\n",
              "\n",
              "    .colab-df-convert {\n",
              "      background-color: #E8F0FE;\n",
              "      border: none;\n",
              "      border-radius: 50%;\n",
              "      cursor: pointer;\n",
              "      display: none;\n",
              "      fill: #1967D2;\n",
              "      height: 32px;\n",
              "      padding: 0 0 0 0;\n",
              "      width: 32px;\n",
              "    }\n",
              "\n",
              "    .colab-df-convert:hover {\n",
              "      background-color: #E2EBFA;\n",
              "      box-shadow: 0px 1px 2px rgba(60, 64, 67, 0.3), 0px 1px 3px 1px rgba(60, 64, 67, 0.15);\n",
              "      fill: #174EA6;\n",
              "    }\n",
              "\n",
              "    .colab-df-buttons div {\n",
              "      margin-bottom: 4px;\n",
              "    }\n",
              "\n",
              "    [theme=dark] .colab-df-convert {\n",
              "      background-color: #3B4455;\n",
              "      fill: #D2E3FC;\n",
              "    }\n",
              "\n",
              "    [theme=dark] .colab-df-convert:hover {\n",
              "      background-color: #434B5C;\n",
              "      box-shadow: 0px 1px 3px 1px rgba(0, 0, 0, 0.15);\n",
              "      filter: drop-shadow(0px 1px 2px rgba(0, 0, 0, 0.3));\n",
              "      fill: #FFFFFF;\n",
              "    }\n",
              "  </style>\n",
              "\n",
              "    <script>\n",
              "      const buttonEl =\n",
              "        document.querySelector('#df-48022370-1062-4cd2-b603-0d9047b4d2a7 button.colab-df-convert');\n",
              "      buttonEl.style.display =\n",
              "        google.colab.kernel.accessAllowed ? 'block' : 'none';\n",
              "\n",
              "      async function convertToInteractive(key) {\n",
              "        const element = document.querySelector('#df-48022370-1062-4cd2-b603-0d9047b4d2a7');\n",
              "        const dataTable =\n",
              "          await google.colab.kernel.invokeFunction('convertToInteractive',\n",
              "                                                    [key], {});\n",
              "        if (!dataTable) return;\n",
              "\n",
              "        const docLinkHtml = 'Like what you see? Visit the ' +\n",
              "          '<a target=\"_blank\" href=https://colab.research.google.com/notebooks/data_table.ipynb>data table notebook</a>'\n",
              "          + ' to learn more about interactive tables.';\n",
              "        element.innerHTML = '';\n",
              "        dataTable['output_type'] = 'display_data';\n",
              "        await google.colab.output.renderOutput(dataTable, element);\n",
              "        const docLink = document.createElement('div');\n",
              "        docLink.innerHTML = docLinkHtml;\n",
              "        element.appendChild(docLink);\n",
              "      }\n",
              "    </script>\n",
              "  </div>\n",
              "\n",
              "\n",
              "<div id=\"df-8724d9a1-28ba-4d66-9e20-bba080a80750\">\n",
              "  <button class=\"colab-df-quickchart\" onclick=\"quickchart('df-8724d9a1-28ba-4d66-9e20-bba080a80750')\"\n",
              "            title=\"Suggest charts.\"\n",
              "            style=\"display:none;\">\n",
              "\n",
              "<svg xmlns=\"http://www.w3.org/2000/svg\" height=\"24px\"viewBox=\"0 0 24 24\"\n",
              "     width=\"24px\">\n",
              "    <g>\n",
              "        <path d=\"M19 3H5c-1.1 0-2 .9-2 2v14c0 1.1.9 2 2 2h14c1.1 0 2-.9 2-2V5c0-1.1-.9-2-2-2zM9 17H7v-7h2v7zm4 0h-2V7h2v10zm4 0h-2v-4h2v4z\"/>\n",
              "    </g>\n",
              "</svg>\n",
              "  </button>\n",
              "\n",
              "<style>\n",
              "  .colab-df-quickchart {\n",
              "      --bg-color: #E8F0FE;\n",
              "      --fill-color: #1967D2;\n",
              "      --hover-bg-color: #E2EBFA;\n",
              "      --hover-fill-color: #174EA6;\n",
              "      --disabled-fill-color: #AAA;\n",
              "      --disabled-bg-color: #DDD;\n",
              "  }\n",
              "\n",
              "  [theme=dark] .colab-df-quickchart {\n",
              "      --bg-color: #3B4455;\n",
              "      --fill-color: #D2E3FC;\n",
              "      --hover-bg-color: #434B5C;\n",
              "      --hover-fill-color: #FFFFFF;\n",
              "      --disabled-bg-color: #3B4455;\n",
              "      --disabled-fill-color: #666;\n",
              "  }\n",
              "\n",
              "  .colab-df-quickchart {\n",
              "    background-color: var(--bg-color);\n",
              "    border: none;\n",
              "    border-radius: 50%;\n",
              "    cursor: pointer;\n",
              "    display: none;\n",
              "    fill: var(--fill-color);\n",
              "    height: 32px;\n",
              "    padding: 0;\n",
              "    width: 32px;\n",
              "  }\n",
              "\n",
              "  .colab-df-quickchart:hover {\n",
              "    background-color: var(--hover-bg-color);\n",
              "    box-shadow: 0 1px 2px rgba(60, 64, 67, 0.3), 0 1px 3px 1px rgba(60, 64, 67, 0.15);\n",
              "    fill: var(--button-hover-fill-color);\n",
              "  }\n",
              "\n",
              "  .colab-df-quickchart-complete:disabled,\n",
              "  .colab-df-quickchart-complete:disabled:hover {\n",
              "    background-color: var(--disabled-bg-color);\n",
              "    fill: var(--disabled-fill-color);\n",
              "    box-shadow: none;\n",
              "  }\n",
              "\n",
              "  .colab-df-spinner {\n",
              "    border: 2px solid var(--fill-color);\n",
              "    border-color: transparent;\n",
              "    border-bottom-color: var(--fill-color);\n",
              "    animation:\n",
              "      spin 1s steps(1) infinite;\n",
              "  }\n",
              "\n",
              "  @keyframes spin {\n",
              "    0% {\n",
              "      border-color: transparent;\n",
              "      border-bottom-color: var(--fill-color);\n",
              "      border-left-color: var(--fill-color);\n",
              "    }\n",
              "    20% {\n",
              "      border-color: transparent;\n",
              "      border-left-color: var(--fill-color);\n",
              "      border-top-color: var(--fill-color);\n",
              "    }\n",
              "    30% {\n",
              "      border-color: transparent;\n",
              "      border-left-color: var(--fill-color);\n",
              "      border-top-color: var(--fill-color);\n",
              "      border-right-color: var(--fill-color);\n",
              "    }\n",
              "    40% {\n",
              "      border-color: transparent;\n",
              "      border-right-color: var(--fill-color);\n",
              "      border-top-color: var(--fill-color);\n",
              "    }\n",
              "    60% {\n",
              "      border-color: transparent;\n",
              "      border-right-color: var(--fill-color);\n",
              "    }\n",
              "    80% {\n",
              "      border-color: transparent;\n",
              "      border-right-color: var(--fill-color);\n",
              "      border-bottom-color: var(--fill-color);\n",
              "    }\n",
              "    90% {\n",
              "      border-color: transparent;\n",
              "      border-bottom-color: var(--fill-color);\n",
              "    }\n",
              "  }\n",
              "</style>\n",
              "\n",
              "  <script>\n",
              "    async function quickchart(key) {\n",
              "      const quickchartButtonEl =\n",
              "        document.querySelector('#' + key + ' button');\n",
              "      quickchartButtonEl.disabled = true;  // To prevent multiple clicks.\n",
              "      quickchartButtonEl.classList.add('colab-df-spinner');\n",
              "      try {\n",
              "        const charts = await google.colab.kernel.invokeFunction(\n",
              "            'suggestCharts', [key], {});\n",
              "      } catch (error) {\n",
              "        console.error('Error during call to suggestCharts:', error);\n",
              "      }\n",
              "      quickchartButtonEl.classList.remove('colab-df-spinner');\n",
              "      quickchartButtonEl.classList.add('colab-df-quickchart-complete');\n",
              "    }\n",
              "    (() => {\n",
              "      let quickchartButtonEl =\n",
              "        document.querySelector('#df-8724d9a1-28ba-4d66-9e20-bba080a80750 button');\n",
              "      quickchartButtonEl.style.display =\n",
              "        google.colab.kernel.accessAllowed ? 'block' : 'none';\n",
              "    })();\n",
              "  </script>\n",
              "</div>\n",
              "    </div>\n",
              "  </div>\n"
            ]
          },
          "metadata": {},
          "execution_count": 78
        }
      ]
    },
    {
      "cell_type": "markdown",
      "source": [
        "Build the prediction on the test set and create the submission file."
      ],
      "metadata": {
        "id": "r86iZnGyD5Ck"
      }
    },
    {
      "cell_type": "code",
      "source": [
        "pred = model_3.predict(sequences_matrix2)"
      ],
      "metadata": {
        "colab": {
          "base_uri": "https://localhost:8080/"
        },
        "id": "9StLq-lJjZIc",
        "outputId": "6c0d18c6-fcde-4d26-ca59-085672bdb576"
      },
      "execution_count": null,
      "outputs": [
        {
          "output_type": "stream",
          "name": "stdout",
          "text": [
            "102/102 [==============================] - 8s 78ms/step\n"
          ]
        }
      ]
    },
    {
      "cell_type": "code",
      "source": [
        "predictions = np.transpose(pred)[0]\n",
        "copy_df = pd.DataFrame()\n",
        "copy_df['id'] = sample_submission['id'] #.apply(lambda x: x.split('.')[0])\n",
        "copy_df['target'] = list(map(lambda x: 0 if x < 0.5 else 1, predictions))\n",
        "copy_df['target'].value_counts()\n",
        "copy_df.to_csv('submission.csv', index=False)"
      ],
      "metadata": {
        "id": "M8hM_4kIIglN"
      },
      "execution_count": null,
      "outputs": []
    },
    {
      "cell_type": "markdown",
      "source": [
        "## 7 Works Cited"
      ],
      "metadata": {
        "id": "83YaEq04ImnW"
      }
    },
    {
      "cell_type": "markdown",
      "source": [
        "$^{1}$ \"Natural Language Processing with Disaster Tweets.\" Kaggle. https://www.kaggle.com/competitions/nlp-getting-started/overview\n",
        "\n",
        "$^{2}$ Abhishek, Mehra. \"RandomForestClassifier,CountVectorizer.\" Kaggle. https://www.kaggle.com/code/abhismehra/randomforestclassifier-countvectorizer\n",
        "\n",
        "$^{3}$ \"Tokenizer base class.\" KerasNLP. https://keras.io/api/keras_nlp/tokenizers/tokenizer/"
      ],
      "metadata": {
        "id": "FMGPIvrHIoMe"
      }
    },
    {
      "cell_type": "markdown",
      "source": [
        "## 8 Link for GitHub Repository"
      ],
      "metadata": {
        "id": "6b2J8BYfIspO"
      }
    },
    {
      "cell_type": "markdown",
      "source": [
        "https://github.com/minesalum/msds5511-LSTM.git"
      ],
      "metadata": {
        "id": "gUPUGZ1WFpty"
      }
    }
  ]
}